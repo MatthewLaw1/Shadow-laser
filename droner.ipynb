{
 "cells": [
  {
   "cell_type": "code",
   "execution_count": 4,
   "metadata": {},
   "outputs": [
    {
     "name": "stdout",
     "output_type": "stream",
     "text": [
      "Requirement already satisfied: pyserial in /opt/homebrew/lib/python3.12/site-packages (3.5)\n",
      "Note: you may need to restart the kernel to use updated packages.\n",
      "Collecting serial\n",
      "  Using cached serial-0.0.97-py2.py3-none-any.whl.metadata (889 bytes)\n",
      "Collecting future>=0.17.1 (from serial)\n",
      "  Using cached future-1.0.0-py3-none-any.whl.metadata (4.0 kB)\n",
      "Requirement already satisfied: pyyaml>=3.13 in /opt/homebrew/lib/python3.12/site-packages (from serial) (6.0.1)\n",
      "Collecting iso8601>=0.1.12 (from serial)\n",
      "  Using cached iso8601-2.1.0-py3-none-any.whl.metadata (3.7 kB)\n",
      "Using cached serial-0.0.97-py2.py3-none-any.whl (40 kB)\n",
      "Using cached future-1.0.0-py3-none-any.whl (491 kB)\n",
      "Using cached iso8601-2.1.0-py3-none-any.whl (7.5 kB)\n",
      "Installing collected packages: iso8601, future, serial\n",
      "Successfully installed future-1.0.0 iso8601-2.1.0 serial-0.0.97\n",
      "Note: you may need to restart the kernel to use updated packages.\n"
     ]
    }
   ],
   "source": [
    "%pip install pyserial\n",
    "%pip install serial"
   ]
  },
  {
   "cell_type": "code",
   "execution_count": 5,
   "metadata": {},
   "outputs": [],
   "source": [
    "import serial\n",
    "import struct\n",
    "import time"
   ]
  },
  {
   "cell_type": "code",
   "execution_count": 6,
   "metadata": {},
   "outputs": [],
   "source": [
    "# Serial port settings\n",
    "PORT = \"/dev/ttyUSB0\"  # Replace with your flight controller's port (e.g., COM3 on Windows)\n",
    "BAUDRATE = 115200  # Common baud rate for flight controllers\n",
    "TIMEOUT = 1  # Timeout for serial communication in seconds\n",
    "\n",
    "MSP_HEADER = b\"$M<\"\n",
    "MSP_STATUS = 101  # Command for status\n",
    "MSP_RAW_IMU = 102  # Command for raw IMU data\n",
    "MSP_ATTITUDE = 108  # Command for attitude data"
   ]
  }
 ],
 "metadata": {
  "kernelspec": {
   "display_name": "Python 3",
   "language": "python",
   "name": "python3"
  },
  "language_info": {
   "codemirror_mode": {
    "name": "ipython",
    "version": 3
   },
   "file_extension": ".py",
   "mimetype": "text/x-python",
   "name": "python",
   "nbconvert_exporter": "python",
   "pygments_lexer": "ipython3",
   "version": "3.12.5"
  }
 },
 "nbformat": 4,
 "nbformat_minor": 2
}
